{
 "cells": [
  {
   "cell_type": "code",
   "execution_count": 1,
   "metadata": {},
   "outputs": [],
   "source": [
    "import pandas as pd"
   ]
  },
  {
   "cell_type": "code",
   "execution_count": 2,
   "metadata": {},
   "outputs": [],
   "source": [
    "segmentations = pd.read_csv(r'C:\\Users\\Tarek\\fiftyone\\open-images-v7\\train\\labels\\segmentations.csv')"
   ]
  },
  {
   "cell_type": "code",
   "execution_count": 16,
   "metadata": {},
   "outputs": [],
   "source": [
    "classes = pd.read_csv(r'C:\\Users\\Tarek\\fiftyone\\open-images-v7\\train\\metadata\\classes.csv',header=None)\n",
    "classes.columns = ['name', 'class']"
   ]
  },
  {
   "cell_type": "code",
   "execution_count": 7,
   "metadata": {},
   "outputs": [
    {
     "data": {
      "text/plain": [
       "LabelName\n",
       "/m/09j2d     414489\n",
       "/m/05r655    173787\n",
       "/m/0k4j      159435\n",
       "/m/083wq     155416\n",
       "/m/01g317    149166\n",
       "              ...  \n",
       "/m/0j496         13\n",
       "/m/05w9t9         8\n",
       "/m/0xzly          7\n",
       "/m/0ct4f          6\n",
       "/m/080n7g         2\n",
       "Name: count, Length: 350, dtype: int64"
      ]
     },
     "execution_count": 7,
     "metadata": {},
     "output_type": "execute_result"
    }
   ],
   "source": [
    "segmentations['LabelName'].value_counts()"
   ]
  },
  {
   "cell_type": "code",
   "execution_count": 8,
   "metadata": {},
   "outputs": [
    {
     "data": {
      "text/html": [
       "<div>\n",
       "<style scoped>\n",
       "    .dataframe tbody tr th:only-of-type {\n",
       "        vertical-align: middle;\n",
       "    }\n",
       "\n",
       "    .dataframe tbody tr th {\n",
       "        vertical-align: top;\n",
       "    }\n",
       "\n",
       "    .dataframe thead th {\n",
       "        text-align: right;\n",
       "    }\n",
       "</style>\n",
       "<table border=\"1\" class=\"dataframe\">\n",
       "  <thead>\n",
       "    <tr style=\"text-align: right;\">\n",
       "      <th></th>\n",
       "      <th>MaskPath</th>\n",
       "      <th>ImageID</th>\n",
       "      <th>LabelName</th>\n",
       "      <th>BoxID</th>\n",
       "      <th>BoxXMin</th>\n",
       "      <th>BoxXMax</th>\n",
       "      <th>BoxYMin</th>\n",
       "      <th>BoxYMax</th>\n",
       "      <th>PredictedIoU</th>\n",
       "      <th>Clicks</th>\n",
       "    </tr>\n",
       "  </thead>\n",
       "  <tbody>\n",
       "    <tr>\n",
       "      <th>0</th>\n",
       "      <td>677c122b0eaa5d16_m04yx4_9a041d52.png</td>\n",
       "      <td>677c122b0eaa5d16</td>\n",
       "      <td>/m/04yx4</td>\n",
       "      <td>9a041d52</td>\n",
       "      <td>0.887500</td>\n",
       "      <td>0.960938</td>\n",
       "      <td>0.454167</td>\n",
       "      <td>0.720833</td>\n",
       "      <td>0.86864</td>\n",
       "      <td>0.95498 0.65197 1;0.89370 0.56579 1;0.94701 0....</td>\n",
       "    </tr>\n",
       "    <tr>\n",
       "      <th>1</th>\n",
       "      <td>05529ae018130c68_m09j2d_b1115fd0.png</td>\n",
       "      <td>05529ae018130c68</td>\n",
       "      <td>/m/09j2d</td>\n",
       "      <td>b1115fd0</td>\n",
       "      <td>0.086875</td>\n",
       "      <td>0.254375</td>\n",
       "      <td>0.504708</td>\n",
       "      <td>0.790960</td>\n",
       "      <td>0.80250</td>\n",
       "      <td>0.16388 0.50114 1;0.25069 0.75425 1;0.13478 0....</td>\n",
       "    </tr>\n",
       "    <tr>\n",
       "      <th>2</th>\n",
       "      <td>96e7ee70b428a54e_m04yx4_05580497.png</td>\n",
       "      <td>96e7ee70b428a54e</td>\n",
       "      <td>/m/04yx4</td>\n",
       "      <td>05580497</td>\n",
       "      <td>0.456250</td>\n",
       "      <td>0.603125</td>\n",
       "      <td>0.222013</td>\n",
       "      <td>0.903104</td>\n",
       "      <td>0.55850</td>\n",
       "      <td>0.52271 0.46625 0;0.52695 0.70150 0;0.59151 0....</td>\n",
       "    </tr>\n",
       "    <tr>\n",
       "      <th>3</th>\n",
       "      <td>76084f166740d78a_m09j2d_557dfcf5.png</td>\n",
       "      <td>76084f166740d78a</td>\n",
       "      <td>/m/09j2d</td>\n",
       "      <td>557dfcf5</td>\n",
       "      <td>0.018750</td>\n",
       "      <td>0.145625</td>\n",
       "      <td>0.313333</td>\n",
       "      <td>0.754167</td>\n",
       "      <td>0.62394</td>\n",
       "      <td>0.08756 0.34082 0;0.03971 0.34195 1;0.06705 0....</td>\n",
       "    </tr>\n",
       "    <tr>\n",
       "      <th>4</th>\n",
       "      <td>ebaccfc70c721055_m02p0tk3_b39109c0.png</td>\n",
       "      <td>ebaccfc70c721055</td>\n",
       "      <td>/m/02p0tk3</td>\n",
       "      <td>b39109c0</td>\n",
       "      <td>0.097500</td>\n",
       "      <td>0.212500</td>\n",
       "      <td>0.291667</td>\n",
       "      <td>0.930833</td>\n",
       "      <td>0.84223</td>\n",
       "      <td>0.19847 0.85413 1;0.18916 0.34751 1;0.18636 0....</td>\n",
       "    </tr>\n",
       "  </tbody>\n",
       "</table>\n",
       "</div>"
      ],
      "text/plain": [
       "                                 MaskPath           ImageID   LabelName  \\\n",
       "0    677c122b0eaa5d16_m04yx4_9a041d52.png  677c122b0eaa5d16    /m/04yx4   \n",
       "1    05529ae018130c68_m09j2d_b1115fd0.png  05529ae018130c68    /m/09j2d   \n",
       "2    96e7ee70b428a54e_m04yx4_05580497.png  96e7ee70b428a54e    /m/04yx4   \n",
       "3    76084f166740d78a_m09j2d_557dfcf5.png  76084f166740d78a    /m/09j2d   \n",
       "4  ebaccfc70c721055_m02p0tk3_b39109c0.png  ebaccfc70c721055  /m/02p0tk3   \n",
       "\n",
       "      BoxID   BoxXMin   BoxXMax   BoxYMin   BoxYMax  PredictedIoU  \\\n",
       "0  9a041d52  0.887500  0.960938  0.454167  0.720833       0.86864   \n",
       "1  b1115fd0  0.086875  0.254375  0.504708  0.790960       0.80250   \n",
       "2  05580497  0.456250  0.603125  0.222013  0.903104       0.55850   \n",
       "3  557dfcf5  0.018750  0.145625  0.313333  0.754167       0.62394   \n",
       "4  b39109c0  0.097500  0.212500  0.291667  0.930833       0.84223   \n",
       "\n",
       "                                              Clicks  \n",
       "0  0.95498 0.65197 1;0.89370 0.56579 1;0.94701 0....  \n",
       "1  0.16388 0.50114 1;0.25069 0.75425 1;0.13478 0....  \n",
       "2  0.52271 0.46625 0;0.52695 0.70150 0;0.59151 0....  \n",
       "3  0.08756 0.34082 0;0.03971 0.34195 1;0.06705 0....  \n",
       "4  0.19847 0.85413 1;0.18916 0.34751 1;0.18636 0....  "
      ]
     },
     "execution_count": 8,
     "metadata": {},
     "output_type": "execute_result"
    }
   ],
   "source": [
    "segmentations.head()"
   ]
  },
  {
   "cell_type": "code",
   "execution_count": 17,
   "metadata": {},
   "outputs": [
    {
     "data": {
      "text/html": [
       "<div>\n",
       "<style scoped>\n",
       "    .dataframe tbody tr th:only-of-type {\n",
       "        vertical-align: middle;\n",
       "    }\n",
       "\n",
       "    .dataframe tbody tr th {\n",
       "        vertical-align: top;\n",
       "    }\n",
       "\n",
       "    .dataframe thead th {\n",
       "        text-align: right;\n",
       "    }\n",
       "</style>\n",
       "<table border=\"1\" class=\"dataframe\">\n",
       "  <thead>\n",
       "    <tr style=\"text-align: right;\">\n",
       "      <th></th>\n",
       "      <th>name</th>\n",
       "      <th>class</th>\n",
       "    </tr>\n",
       "  </thead>\n",
       "  <tbody>\n",
       "    <tr>\n",
       "      <th>0</th>\n",
       "      <td>/m/011k07</td>\n",
       "      <td>Tortoise</td>\n",
       "    </tr>\n",
       "    <tr>\n",
       "      <th>1</th>\n",
       "      <td>/m/011q46kg</td>\n",
       "      <td>Container</td>\n",
       "    </tr>\n",
       "    <tr>\n",
       "      <th>2</th>\n",
       "      <td>/m/012074</td>\n",
       "      <td>Magpie</td>\n",
       "    </tr>\n",
       "    <tr>\n",
       "      <th>3</th>\n",
       "      <td>/m/0120dh</td>\n",
       "      <td>Sea turtle</td>\n",
       "    </tr>\n",
       "    <tr>\n",
       "      <th>4</th>\n",
       "      <td>/m/01226z</td>\n",
       "      <td>Football</td>\n",
       "    </tr>\n",
       "  </tbody>\n",
       "</table>\n",
       "</div>"
      ],
      "text/plain": [
       "          name       class\n",
       "0    /m/011k07    Tortoise\n",
       "1  /m/011q46kg   Container\n",
       "2    /m/012074      Magpie\n",
       "3    /m/0120dh  Sea turtle\n",
       "4    /m/01226z    Football"
      ]
     },
     "execution_count": 17,
     "metadata": {},
     "output_type": "execute_result"
    }
   ],
   "source": [
    "classes.head()"
   ]
  },
  {
   "cell_type": "code",
   "execution_count": 18,
   "metadata": {},
   "outputs": [
    {
     "data": {
      "text/plain": [
       "array(['/m/0k4j'], dtype=object)"
      ]
     },
     "execution_count": 18,
     "metadata": {},
     "output_type": "execute_result"
    }
   ],
   "source": [
    "classes[classes['class'] == 'Car']['name'].values"
   ]
  },
  {
   "cell_type": "code",
   "execution_count": 19,
   "metadata": {},
   "outputs": [],
   "source": [
    "classes['name'] =  classes['name'].str.replace('/', '', regex=False)"
   ]
  },
  {
   "cell_type": "code",
   "execution_count": 20,
   "metadata": {},
   "outputs": [
    {
     "data": {
      "text/html": [
       "<div>\n",
       "<style scoped>\n",
       "    .dataframe tbody tr th:only-of-type {\n",
       "        vertical-align: middle;\n",
       "    }\n",
       "\n",
       "    .dataframe tbody tr th {\n",
       "        vertical-align: top;\n",
       "    }\n",
       "\n",
       "    .dataframe thead th {\n",
       "        text-align: right;\n",
       "    }\n",
       "</style>\n",
       "<table border=\"1\" class=\"dataframe\">\n",
       "  <thead>\n",
       "    <tr style=\"text-align: right;\">\n",
       "      <th></th>\n",
       "      <th>name</th>\n",
       "      <th>class</th>\n",
       "    </tr>\n",
       "  </thead>\n",
       "  <tbody>\n",
       "    <tr>\n",
       "      <th>0</th>\n",
       "      <td>m011k07</td>\n",
       "      <td>Tortoise</td>\n",
       "    </tr>\n",
       "    <tr>\n",
       "      <th>1</th>\n",
       "      <td>m011q46kg</td>\n",
       "      <td>Container</td>\n",
       "    </tr>\n",
       "    <tr>\n",
       "      <th>2</th>\n",
       "      <td>m012074</td>\n",
       "      <td>Magpie</td>\n",
       "    </tr>\n",
       "    <tr>\n",
       "      <th>3</th>\n",
       "      <td>m0120dh</td>\n",
       "      <td>Sea turtle</td>\n",
       "    </tr>\n",
       "    <tr>\n",
       "      <th>4</th>\n",
       "      <td>m01226z</td>\n",
       "      <td>Football</td>\n",
       "    </tr>\n",
       "  </tbody>\n",
       "</table>\n",
       "</div>"
      ],
      "text/plain": [
       "        name       class\n",
       "0    m011k07    Tortoise\n",
       "1  m011q46kg   Container\n",
       "2    m012074      Magpie\n",
       "3    m0120dh  Sea turtle\n",
       "4    m01226z    Football"
      ]
     },
     "execution_count": 20,
     "metadata": {},
     "output_type": "execute_result"
    }
   ],
   "source": [
    "classes.head()"
   ]
  },
  {
   "cell_type": "code",
   "execution_count": 21,
   "metadata": {},
   "outputs": [
    {
     "data": {
      "text/html": [
       "<div>\n",
       "<style scoped>\n",
       "    .dataframe tbody tr th:only-of-type {\n",
       "        vertical-align: middle;\n",
       "    }\n",
       "\n",
       "    .dataframe tbody tr th {\n",
       "        vertical-align: top;\n",
       "    }\n",
       "\n",
       "    .dataframe thead th {\n",
       "        text-align: right;\n",
       "    }\n",
       "</style>\n",
       "<table border=\"1\" class=\"dataframe\">\n",
       "  <thead>\n",
       "    <tr style=\"text-align: right;\">\n",
       "      <th></th>\n",
       "      <th>name</th>\n",
       "      <th>class</th>\n",
       "    </tr>\n",
       "  </thead>\n",
       "  <tbody>\n",
       "    <tr>\n",
       "      <th>408</th>\n",
       "      <td>m083wq</td>\n",
       "      <td>Wheel</td>\n",
       "    </tr>\n",
       "  </tbody>\n",
       "</table>\n",
       "</div>"
      ],
      "text/plain": [
       "       name  class\n",
       "408  m083wq  Wheel"
      ]
     },
     "execution_count": 21,
     "metadata": {},
     "output_type": "execute_result"
    }
   ],
   "source": [
    "classes[classes['name'] == 'm083wq']"
   ]
  },
  {
   "cell_type": "code",
   "execution_count": 1,
   "metadata": {},
   "outputs": [],
   "source": [
    "import json\n",
    "\n",
    "# Specify the path to your JSON file\n",
    "json_file_path = 'test/data.json'\n",
    "\n",
    "# Open and load the JSON file\n",
    "with open(json_file_path, 'r') as file:\n",
    "    data = json.load(file)  # Save the JSON content to a Python variable"
   ]
  },
  {
   "cell_type": "code",
   "execution_count": 2,
   "metadata": {},
   "outputs": [
    {
     "data": {
      "text/plain": [
       "15003"
      ]
     },
     "execution_count": 2,
     "metadata": {},
     "output_type": "execute_result"
    }
   ],
   "source": [
    "len(data['images'])"
   ]
  },
  {
   "cell_type": "code",
   "execution_count": 1,
   "metadata": {},
   "outputs": [
    {
     "name": "stdout",
     "output_type": "stream",
     "text": [
      "(683, 1024, 3)\n"
     ]
    }
   ],
   "source": [
    "import cv2\n",
    "\n",
    "image = cv2.imread(r'C:\\Users\\Tarek\\fiftyone\\open-images-v7\\train\\data\\004eee32a983a20c.jpg')\n"
   ]
  },
  {
   "cell_type": "code",
   "execution_count": null,
   "metadata": {},
   "outputs": [],
   "source": []
  }
 ],
 "metadata": {
  "kernelspec": {
   "display_name": ".venv",
   "language": "python",
   "name": "python3"
  },
  "language_info": {
   "codemirror_mode": {
    "name": "ipython",
    "version": 3
   },
   "file_extension": ".py",
   "mimetype": "text/x-python",
   "name": "python",
   "nbconvert_exporter": "python",
   "pygments_lexer": "ipython3",
   "version": "3.12.4"
  }
 },
 "nbformat": 4,
 "nbformat_minor": 2
}
